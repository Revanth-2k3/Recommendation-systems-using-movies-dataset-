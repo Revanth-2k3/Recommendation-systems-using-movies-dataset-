{
 "cells": [
  {
   "cell_type": "code",
   "execution_count": 3,
   "id": "96630142-5f05-4f63-9285-e2021de57c65",
   "metadata": {},
   "outputs": [],
   "source": [
    "# Importing Libraries\n",
    "import numpy as np\n",
    "import pandas as pd\n",
    "import sklearn\n",
    "import matplotlib.pyplot as plt\n",
    "import seaborn as sns\n",
    "import warnings\n",
    "from sklearn.feature_extraction.text import TfidfVectorizer\n",
    "from sklearn.metrics.pairwise import cosine_similarity\n",
    "warnings.simplefilter(action='ignore', category=FutureWarning)"
   ]
  },
  {
   "cell_type": "code",
   "execution_count": 4,
   "id": "4ba1599a-7ed4-45fd-afa0-567677667557",
   "metadata": {},
   "outputs": [],
   "source": [
    "data = pd.read_csv(r\"C:\\Users\\revan\\Downloads\\disney_movies.csv\")"
   ]
  },
  {
   "cell_type": "code",
   "execution_count": 5,
   "id": "21912eeb-df41-419a-96d4-6ee7fa149839",
   "metadata": {},
   "outputs": [
    {
     "data": {
      "text/html": [
       "<div>\n",
       "<style scoped>\n",
       "    .dataframe tbody tr th:only-of-type {\n",
       "        vertical-align: middle;\n",
       "    }\n",
       "\n",
       "    .dataframe tbody tr th {\n",
       "        vertical-align: top;\n",
       "    }\n",
       "\n",
       "    .dataframe thead th {\n",
       "        text-align: right;\n",
       "    }\n",
       "</style>\n",
       "<table border=\"1\" class=\"dataframe\">\n",
       "  <thead>\n",
       "    <tr style=\"text-align: right;\">\n",
       "      <th></th>\n",
       "      <th>movie_title</th>\n",
       "      <th>release_date</th>\n",
       "      <th>genre</th>\n",
       "      <th>mpaa_rating</th>\n",
       "      <th>total_gross</th>\n",
       "      <th>inflation_adjusted_gross</th>\n",
       "    </tr>\n",
       "  </thead>\n",
       "  <tbody>\n",
       "    <tr>\n",
       "      <th>0</th>\n",
       "      <td>Snow White and the Seven Dwarfs</td>\n",
       "      <td>1937-12-21</td>\n",
       "      <td>Musical</td>\n",
       "      <td>G</td>\n",
       "      <td>184925485</td>\n",
       "      <td>5228953251</td>\n",
       "    </tr>\n",
       "    <tr>\n",
       "      <th>1</th>\n",
       "      <td>Pinocchio</td>\n",
       "      <td>1940-02-09</td>\n",
       "      <td>Adventure</td>\n",
       "      <td>G</td>\n",
       "      <td>84300000</td>\n",
       "      <td>2188229052</td>\n",
       "    </tr>\n",
       "    <tr>\n",
       "      <th>2</th>\n",
       "      <td>Fantasia</td>\n",
       "      <td>1940-11-13</td>\n",
       "      <td>Musical</td>\n",
       "      <td>G</td>\n",
       "      <td>83320000</td>\n",
       "      <td>2187090808</td>\n",
       "    </tr>\n",
       "    <tr>\n",
       "      <th>3</th>\n",
       "      <td>Song of the South</td>\n",
       "      <td>1946-11-12</td>\n",
       "      <td>Adventure</td>\n",
       "      <td>G</td>\n",
       "      <td>65000000</td>\n",
       "      <td>1078510579</td>\n",
       "    </tr>\n",
       "    <tr>\n",
       "      <th>4</th>\n",
       "      <td>Cinderella</td>\n",
       "      <td>1950-02-15</td>\n",
       "      <td>Drama</td>\n",
       "      <td>G</td>\n",
       "      <td>85000000</td>\n",
       "      <td>920608730</td>\n",
       "    </tr>\n",
       "  </tbody>\n",
       "</table>\n",
       "</div>"
      ],
      "text/plain": [
       "                       movie_title release_date      genre mpaa_rating  \\\n",
       "0  Snow White and the Seven Dwarfs   1937-12-21    Musical           G   \n",
       "1                        Pinocchio   1940-02-09  Adventure           G   \n",
       "2                         Fantasia   1940-11-13    Musical           G   \n",
       "3                Song of the South   1946-11-12  Adventure           G   \n",
       "4                       Cinderella   1950-02-15      Drama           G   \n",
       "\n",
       "   total_gross  inflation_adjusted_gross  \n",
       "0    184925485                5228953251  \n",
       "1     84300000                2188229052  \n",
       "2     83320000                2187090808  \n",
       "3     65000000                1078510579  \n",
       "4     85000000                 920608730  "
      ]
     },
     "execution_count": 5,
     "metadata": {},
     "output_type": "execute_result"
    }
   ],
   "source": [
    "# Display the first few rows to understand its structure\n",
    "data.head()"
   ]
  },
  {
   "cell_type": "code",
   "execution_count": 102,
   "id": "ecdf3c76-e9a5-4950-898a-51a3ee052aa1",
   "metadata": {},
   "outputs": [
    {
     "data": {
      "text/html": [
       "<div>\n",
       "<style scoped>\n",
       "    .dataframe tbody tr th:only-of-type {\n",
       "        vertical-align: middle;\n",
       "    }\n",
       "\n",
       "    .dataframe tbody tr th {\n",
       "        vertical-align: top;\n",
       "    }\n",
       "\n",
       "    .dataframe thead th {\n",
       "        text-align: right;\n",
       "    }\n",
       "</style>\n",
       "<table border=\"1\" class=\"dataframe\">\n",
       "  <thead>\n",
       "    <tr style=\"text-align: right;\">\n",
       "      <th></th>\n",
       "      <th>movie_title</th>\n",
       "      <th>release_date</th>\n",
       "      <th>genre</th>\n",
       "      <th>mpaa_rating</th>\n",
       "      <th>total_gross</th>\n",
       "      <th>inflation_adjusted_gross</th>\n",
       "    </tr>\n",
       "  </thead>\n",
       "  <tbody>\n",
       "    <tr>\n",
       "      <th>574</th>\n",
       "      <td>The Light Between Oceans</td>\n",
       "      <td>2016-09-02</td>\n",
       "      <td>Drama</td>\n",
       "      <td>PG-13</td>\n",
       "      <td>12545979</td>\n",
       "      <td>12545979</td>\n",
       "    </tr>\n",
       "    <tr>\n",
       "      <th>575</th>\n",
       "      <td>Queen of Katwe</td>\n",
       "      <td>2016-09-23</td>\n",
       "      <td>Drama</td>\n",
       "      <td>PG</td>\n",
       "      <td>8874389</td>\n",
       "      <td>8874389</td>\n",
       "    </tr>\n",
       "    <tr>\n",
       "      <th>576</th>\n",
       "      <td>Doctor Strange</td>\n",
       "      <td>2016-11-04</td>\n",
       "      <td>Adventure</td>\n",
       "      <td>PG-13</td>\n",
       "      <td>232532923</td>\n",
       "      <td>232532923</td>\n",
       "    </tr>\n",
       "    <tr>\n",
       "      <th>577</th>\n",
       "      <td>Moana</td>\n",
       "      <td>2016-11-23</td>\n",
       "      <td>Adventure</td>\n",
       "      <td>PG</td>\n",
       "      <td>246082029</td>\n",
       "      <td>246082029</td>\n",
       "    </tr>\n",
       "    <tr>\n",
       "      <th>578</th>\n",
       "      <td>Rogue One: A Star Wars Story</td>\n",
       "      <td>2016-12-16</td>\n",
       "      <td>Adventure</td>\n",
       "      <td>PG-13</td>\n",
       "      <td>529483936</td>\n",
       "      <td>529483936</td>\n",
       "    </tr>\n",
       "  </tbody>\n",
       "</table>\n",
       "</div>"
      ],
      "text/plain": [
       "                      movie_title release_date      genre mpaa_rating  \\\n",
       "574      The Light Between Oceans   2016-09-02      Drama       PG-13   \n",
       "575                Queen of Katwe   2016-09-23      Drama          PG   \n",
       "576                Doctor Strange   2016-11-04  Adventure       PG-13   \n",
       "577                         Moana   2016-11-23  Adventure          PG   \n",
       "578  Rogue One: A Star Wars Story   2016-12-16  Adventure       PG-13   \n",
       "\n",
       "     total_gross  inflation_adjusted_gross  \n",
       "574     12545979                  12545979  \n",
       "575      8874389                   8874389  \n",
       "576    232532923                 232532923  \n",
       "577    246082029                 246082029  \n",
       "578    529483936                 529483936  "
      ]
     },
     "execution_count": 102,
     "metadata": {},
     "output_type": "execute_result"
    }
   ],
   "source": [
    "data.tail()"
   ]
  },
  {
   "cell_type": "code",
   "execution_count": 104,
   "id": "83bc0ff3-1c76-43dc-9a26-bcb0384876aa",
   "metadata": {},
   "outputs": [
    {
     "name": "stdout",
     "output_type": "stream",
     "text": [
      "<class 'pandas.core.frame.DataFrame'>\n",
      "RangeIndex: 579 entries, 0 to 578\n",
      "Data columns (total 6 columns):\n",
      " #   Column                    Non-Null Count  Dtype \n",
      "---  ------                    --------------  ----- \n",
      " 0   movie_title               579 non-null    object\n",
      " 1   release_date              579 non-null    object\n",
      " 2   genre                     562 non-null    object\n",
      " 3   mpaa_rating               523 non-null    object\n",
      " 4   total_gross               579 non-null    int64 \n",
      " 5   inflation_adjusted_gross  579 non-null    int64 \n",
      "dtypes: int64(2), object(4)\n",
      "memory usage: 27.3+ KB\n"
     ]
    }
   ],
   "source": [
    "data.info()"
   ]
  },
  {
   "cell_type": "code",
   "execution_count": 9,
   "id": "1ae508a9-fd2e-4beb-b715-d3683ef9cbe4",
   "metadata": {},
   "outputs": [
    {
     "data": {
      "text/plain": [
       "(579, 6)"
      ]
     },
     "execution_count": 9,
     "metadata": {},
     "output_type": "execute_result"
    }
   ],
   "source": [
    "data.shape"
   ]
  },
  {
   "cell_type": "code",
   "execution_count": 11,
   "id": "3e3db4ea-425b-4b3a-89b8-f972d3ec9147",
   "metadata": {},
   "outputs": [
    {
     "data": {
      "text/html": [
       "<div>\n",
       "<style scoped>\n",
       "    .dataframe tbody tr th:only-of-type {\n",
       "        vertical-align: middle;\n",
       "    }\n",
       "\n",
       "    .dataframe tbody tr th {\n",
       "        vertical-align: top;\n",
       "    }\n",
       "\n",
       "    .dataframe thead th {\n",
       "        text-align: right;\n",
       "    }\n",
       "</style>\n",
       "<table border=\"1\" class=\"dataframe\">\n",
       "  <thead>\n",
       "    <tr style=\"text-align: right;\">\n",
       "      <th></th>\n",
       "      <th>total_gross</th>\n",
       "      <th>inflation_adjusted_gross</th>\n",
       "    </tr>\n",
       "  </thead>\n",
       "  <tbody>\n",
       "    <tr>\n",
       "      <th>count</th>\n",
       "      <td>5.790000e+02</td>\n",
       "      <td>5.790000e+02</td>\n",
       "    </tr>\n",
       "    <tr>\n",
       "      <th>mean</th>\n",
       "      <td>6.470179e+07</td>\n",
       "      <td>1.187625e+08</td>\n",
       "    </tr>\n",
       "    <tr>\n",
       "      <th>std</th>\n",
       "      <td>9.301301e+07</td>\n",
       "      <td>2.860853e+08</td>\n",
       "    </tr>\n",
       "    <tr>\n",
       "      <th>min</th>\n",
       "      <td>0.000000e+00</td>\n",
       "      <td>0.000000e+00</td>\n",
       "    </tr>\n",
       "    <tr>\n",
       "      <th>25%</th>\n",
       "      <td>1.278886e+07</td>\n",
       "      <td>2.274123e+07</td>\n",
       "    </tr>\n",
       "    <tr>\n",
       "      <th>50%</th>\n",
       "      <td>3.070245e+07</td>\n",
       "      <td>5.515978e+07</td>\n",
       "    </tr>\n",
       "    <tr>\n",
       "      <th>75%</th>\n",
       "      <td>7.570903e+07</td>\n",
       "      <td>1.192020e+08</td>\n",
       "    </tr>\n",
       "    <tr>\n",
       "      <th>max</th>\n",
       "      <td>9.366622e+08</td>\n",
       "      <td>5.228953e+09</td>\n",
       "    </tr>\n",
       "  </tbody>\n",
       "</table>\n",
       "</div>"
      ],
      "text/plain": [
       "        total_gross  inflation_adjusted_gross\n",
       "count  5.790000e+02              5.790000e+02\n",
       "mean   6.470179e+07              1.187625e+08\n",
       "std    9.301301e+07              2.860853e+08\n",
       "min    0.000000e+00              0.000000e+00\n",
       "25%    1.278886e+07              2.274123e+07\n",
       "50%    3.070245e+07              5.515978e+07\n",
       "75%    7.570903e+07              1.192020e+08\n",
       "max    9.366622e+08              5.228953e+09"
      ]
     },
     "execution_count": 11,
     "metadata": {},
     "output_type": "execute_result"
    }
   ],
   "source": [
    "data.describe()"
   ]
  },
  {
   "cell_type": "code",
   "execution_count": 13,
   "id": "5a78efd6-e1e4-485f-94f3-8e3a5bd4a98c",
   "metadata": {},
   "outputs": [
    {
     "data": {
      "text/plain": [
       "Index(['movie_title', 'release_date', 'genre', 'mpaa_rating', 'total_gross',\n",
       "       'inflation_adjusted_gross'],\n",
       "      dtype='object')"
      ]
     },
     "execution_count": 13,
     "metadata": {},
     "output_type": "execute_result"
    }
   ],
   "source": [
    "data.columns"
   ]
  },
  {
   "cell_type": "code",
   "execution_count": 15,
   "id": "e27a60fc-77f3-4a01-b3cb-dddbdfcab843",
   "metadata": {},
   "outputs": [
    {
     "data": {
      "text/plain": [
       "release_date\n",
       "1997-12-25    3\n",
       "1998-12-25    2\n",
       "2013-11-22    2\n",
       "2000-11-22    2\n",
       "2002-01-01    2\n",
       "             ..\n",
       "1994-09-02    1\n",
       "1994-08-19    1\n",
       "1994-08-12    1\n",
       "1994-07-15    1\n",
       "2016-12-16    1\n",
       "Name: count, Length: 553, dtype: int64"
      ]
     },
     "execution_count": 15,
     "metadata": {},
     "output_type": "execute_result"
    }
   ],
   "source": [
    "data[\"release_date\"].value_counts()"
   ]
  },
  {
   "cell_type": "code",
   "execution_count": 106,
   "id": "9f7eac85-b8f4-46e1-9d48-3b4d5d53e5fe",
   "metadata": {},
   "outputs": [],
   "source": [
    "# Preprocessing: Handle missing values and format the data\n",
    "data['genre'] = data['genre'].fillna('Unknown')\n",
    "data['mpaa_rating'] = data['mpaa_rating'].fillna('Not Rated')\n",
    "data['release_date'] = pd.to_datetime(data['release_date'])"
   ]
  },
  {
   "cell_type": "code",
   "execution_count": 108,
   "id": "90ecff00-45eb-4611-b957-a1cdcb41b9ee",
   "metadata": {},
   "outputs": [],
   "source": [
    "# Create a combined feature for recommendations\n",
    "data['combined_features'] = (\n",
    "   data['genre'] + \" \" + data['mpaa_rating']\n",
    ")"
   ]
  },
  {
   "cell_type": "code",
   "execution_count": 110,
   "id": "6cc6f2f8-9f7a-4d4f-989e-cfb64f93408f",
   "metadata": {},
   "outputs": [
    {
     "name": "stdout",
     "output_type": "stream",
     "text": [
      "\n",
      "Missing Values:\n",
      "movie_title                 0\n",
      "release_date                0\n",
      "genre                       0\n",
      "mpaa_rating                 0\n",
      "total_gross                 0\n",
      "inflation_adjusted_gross    0\n",
      "combined_features           0\n",
      "dtype: int64\n"
     ]
    }
   ],
   "source": [
    "\n",
    "# Check for missing values\n",
    "print(\"\\nMissing Values:\")\n",
    "print(data.isnull().sum())"
   ]
  },
  {
   "cell_type": "code",
   "execution_count": 112,
   "id": "7b17d851-ac6d-4ed1-a359-35f14e313e61",
   "metadata": {},
   "outputs": [
    {
     "name": "stdout",
     "output_type": "stream",
     "text": [
      "\n",
      "Dataset Information:\n",
      "<class 'pandas.core.frame.DataFrame'>\n",
      "RangeIndex: 579 entries, 0 to 578\n",
      "Data columns (total 7 columns):\n",
      " #   Column                    Non-Null Count  Dtype         \n",
      "---  ------                    --------------  -----         \n",
      " 0   movie_title               579 non-null    object        \n",
      " 1   release_date              579 non-null    datetime64[ns]\n",
      " 2   genre                     579 non-null    object        \n",
      " 3   mpaa_rating               579 non-null    object        \n",
      " 4   total_gross               579 non-null    int64         \n",
      " 5   inflation_adjusted_gross  579 non-null    int64         \n",
      " 6   combined_features         579 non-null    object        \n",
      "dtypes: datetime64[ns](1), int64(2), object(4)\n",
      "memory usage: 31.8+ KB\n",
      "None\n"
     ]
    }
   ],
   "source": [
    "# Data summary\n",
    "print(\"\\nDataset Information:\")\n",
    "print(data.info())"
   ]
  },
  {
   "cell_type": "code",
   "execution_count": 114,
   "id": "8b7e7733-ee5b-4940-99b9-29d2cf28f538",
   "metadata": {},
   "outputs": [],
   "source": [
    "# Preprocessing\n",
    "# Handle missing values in 'genre' and 'mpaa_rating'\n",
    "data['genre'] = data['genre'].fillna('Unknown')\n",
    "data['mpaa_rating'] = data['mpaa_rating'].fillna('Not Rated')"
   ]
  },
  {
   "cell_type": "code",
   "execution_count": 116,
   "id": "7cde3c9e-26e5-4a75-b713-839be26cba8f",
   "metadata": {},
   "outputs": [],
   "source": [
    "# Create a combined features column\n",
    "data['combined_features'] = data['genre'] + \" \" + data['mpaa_rating']"
   ]
  },
  {
   "cell_type": "code",
   "execution_count": 118,
   "id": "d892a43f-3259-453c-8a98-099009350764",
   "metadata": {},
   "outputs": [
    {
     "name": "stdout",
     "output_type": "stream",
     "text": [
      "\n",
      "Modified Dataset Preview:\n",
      "                       movie_title combined_features\n",
      "0  Snow White and the Seven Dwarfs         Musical G\n",
      "1                        Pinocchio       Adventure G\n",
      "2                         Fantasia         Musical G\n",
      "3                Song of the South       Adventure G\n",
      "4                       Cinderella           Drama G\n"
     ]
    }
   ],
   "source": [
    "# Display the first few rows of the modified dataset\n",
    "print(\"\\nModified Dataset Preview:\")\n",
    "print(data[['movie_title', 'combined_features']].head())"
   ]
  },
  {
   "cell_type": "code",
   "execution_count": 120,
   "id": "a4d193c8-c76f-41b9-8f86-d03f6cd49833",
   "metadata": {},
   "outputs": [],
   "source": [
    "# Initialize the TF-IDF Vectorizer\n",
    "vectorizer = TfidfVectorizer(stop_words='english')"
   ]
  },
  {
   "cell_type": "code",
   "execution_count": 122,
   "id": "b0b184e5-1956-4f39-a2b0-a5f6bd6a36a9",
   "metadata": {},
   "outputs": [
    {
     "name": "stdout",
     "output_type": "stream",
     "text": [
      "Available Columns in DataFrame:\n",
      "Index(['movie_title', 'release_date', 'genre', 'mpaa_rating', 'total_gross',\n",
      "       'inflation_adjusted_gross', 'combined_features'],\n",
      "      dtype='object')\n",
      "\n",
      "Preview of combined_features:\n",
      "                       movie_title combined_features\n",
      "0  Snow White and the Seven Dwarfs         Musical G\n",
      "1                        Pinocchio       Adventure G\n",
      "2                         Fantasia         Musical G\n",
      "3                Song of the South       Adventure G\n",
      "4                       Cinderella           Drama G\n"
     ]
    }
   ],
   "source": [
    "# Check the columns in the DataFrame\n",
    "print(\"Available Columns in DataFrame:\")\n",
    "print(data.columns)\n",
    "\n",
    "# Ensure combined_features column is created correctly\n",
    "if 'combined_features' not in data.columns:\n",
    "    print(\"\\nCreating the 'combined_features' column...\")\n",
    "    data['combined_features'] = data['genre'] + \" \" + data['mpaa_rating']\n",
    "    print(\"Column 'combined_features' created successfully!\")\n",
    "\n",
    "# Verify the creation of combined_features\n",
    "print(\"\\nPreview of combined_features:\")\n",
    "print(data[['movie_title', 'combined_features']].head())\n"
   ]
  },
  {
   "cell_type": "code",
   "execution_count": 124,
   "id": "5e7d8f8c-02ea-478c-be2d-8973f7363f8c",
   "metadata": {},
   "outputs": [
    {
     "name": "stdout",
     "output_type": "stream",
     "text": [
      "\n",
      "Checking for missing values in 'combined_features':\n",
      "0\n",
      "\n",
      "TF-IDF Matrix created successfully!\n",
      "Matrix shape: (579, 18)\n"
     ]
    }
   ],
   "source": [
    "# Handle missing values for 'genre' and 'mpaa_rating'\n",
    "data['genre'] = data['genre'].fillna('Unknown')\n",
    "data['mpaa_rating'] = data['mpaa_rating'].fillna('Not Rated')\n",
    "\n",
    "# Recreate combined_features column\n",
    "data['combined_features'] = data['genre'] + \" \" + data['mpaa_rating']\n",
    "\n",
    "# Check for NaN values in combined_features\n",
    "print(\"\\nChecking for missing values in 'combined_features':\")\n",
    "print(data['combined_features'].isnull().sum())\n",
    "\n",
    "# Fill any remaining NaN values in combined_features (safety step)\n",
    "data['combined_features'] = data['combined_features'].fillna('')\n",
    "\n",
    "# Apply TF-IDF vectorization\n",
    "vectorizer = TfidfVectorizer(stop_words='english')\n",
    "tfidf_matrix = vectorizer.fit_transform(data['combined_features'])\n",
    "\n",
    "print(\"\\nTF-IDF Matrix created successfully!\")\n",
    "print(\"Matrix shape:\", tfidf_matrix.shape)\n"
   ]
  },
  {
   "cell_type": "code",
   "execution_count": 126,
   "id": "628e735b-d80b-4c3e-9852-23b67149f90e",
   "metadata": {},
   "outputs": [],
   "source": [
    "# Compute the cosine similarity matrix\n",
    "cosine_sim = cosine_similarity(tfidf_matrix, tfidf_matrix)"
   ]
  },
  {
   "cell_type": "code",
   "execution_count": 128,
   "id": "0ae02717-4be2-46c0-bdf4-45b438c4ea1d",
   "metadata": {},
   "outputs": [],
   "source": [
    "# Define a function for movie recommendations\n",
    "def recommend_movies(title, cosine_sim=cosine_sim, data=data, top_n=5):\n",
    "    # Map movie titles to indices\n",
    "    indices = pd.Series(data.index, index=data['movie_title']).drop_duplicates()"
   ]
  },
  {
   "cell_type": "code",
   "execution_count": 130,
   "id": "ab9a6dec-6894-4865-a1f7-059532d87d24",
   "metadata": {},
   "outputs": [],
   "source": [
    "def find_movie_index(title, indices):\n",
    "    # Get the index of the movie that matches the title\n",
    "    idx = indices.get(title, None)\n",
    "    if idx is None:\n",
    "        return f\"Movie '{title}' not found in the dataset.\"\n",
    "    else:\n",
    "        return f\"Movie '{title}' is found at index {idx}.\""
   ]
  },
  {
   "cell_type": "code",
   "execution_count": 132,
   "id": "1fc6041d-4008-4e50-9c8b-bccfc15ade69",
   "metadata": {},
   "outputs": [],
   "source": [
    "def get_movie_recommendations(title, indices, cosine_sim, data):\n",
    "    # Get the index of the movie that matches the title\n",
    "    idx = indices.get(title, None)\n",
    "    if idx is None:\n",
    "        return f\"Movie '{title}' not found in the dataset.\"\n",
    "        # Get the similarity scores of all movies with the given movie\n",
    "    sim_scores = list(enumerate(cosine_sim[idx]))\n",
    "\n",
    "    # Sort the movies based on similarity scores\n",
    "    sim_scores = sorted(sim_scores, key=lambda x: x[1], reverse=True)\n",
    "\n",
    "    # Get the indices of the 10 most similar movies (excluding the first one, which is the movie itself)\n",
    "    movie_indices = [i[0] for i in sim_scores[1:11]]\n",
    "\n",
    "    # Return the titles of the 10 most similar movies\n",
    "    return data.iloc[movie_indices]['title'].tolist()"
   ]
  },
  {
   "cell_type": "code",
   "execution_count": 134,
   "id": "b1028fd2-717d-49da-90d4-a2fe981814a0",
   "metadata": {},
   "outputs": [
    {
     "name": "stdout",
     "output_type": "stream",
     "text": [
      "\n",
      "Recommendations for 'Cinderella':\n",
      "None\n"
     ]
    }
   ],
   "source": [
    "# Example: Recommend movies similar to \"Cinderella\"\n",
    "movie_to_search = \"Cinderella\"\n",
    "recommendations = recommend_movies(movie_to_search)\n",
    "print(f\"\\nRecommendations for '{movie_to_search}':\")\n",
    "print(recommendations)"
   ]
  },
  {
   "cell_type": "code",
   "execution_count": 136,
   "id": "7e66ebd2-cb18-4d5b-85e7-1698a8ea1064",
   "metadata": {},
   "outputs": [
    {
     "name": "stdout",
     "output_type": "stream",
     "text": [
      "\n",
      "Feature Importances:\n",
      "This concept does not directly apply to recommendation systems like content-based filtering.\n"
     ]
    }
   ],
   "source": [
    "# Feature Importances (Not applicable here but added to mimic format)\n",
    "print(\"\\nFeature Importances:\")\n",
    "print(\"This concept does not directly apply to recommendation systems like content-based filtering.\")"
   ]
  },
  {
   "cell_type": "code",
   "execution_count": null,
   "id": "94e0070a-9b42-4feb-b49d-690d93444a6e",
   "metadata": {},
   "outputs": [],
   "source": []
  },
  {
   "cell_type": "code",
   "execution_count": null,
   "id": "69306ba4-aa27-4515-9b3d-4431035805be",
   "metadata": {},
   "outputs": [],
   "source": []
  },
  {
   "cell_type": "code",
   "execution_count": null,
   "id": "9b5459eb-fbca-4038-ac4d-16b429b31860",
   "metadata": {},
   "outputs": [],
   "source": []
  },
  {
   "cell_type": "code",
   "execution_count": null,
   "id": "78e0d111-20ae-4efe-b51b-6458e53071ff",
   "metadata": {},
   "outputs": [],
   "source": []
  }
 ],
 "metadata": {
  "kernelspec": {
   "display_name": "Python 3 (ipykernel)",
   "language": "python",
   "name": "python3"
  },
  "language_info": {
   "codemirror_mode": {
    "name": "ipython",
    "version": 3
   },
   "file_extension": ".py",
   "mimetype": "text/x-python",
   "name": "python",
   "nbconvert_exporter": "python",
   "pygments_lexer": "ipython3",
   "version": "3.12.4"
  }
 },
 "nbformat": 4,
 "nbformat_minor": 5
}
